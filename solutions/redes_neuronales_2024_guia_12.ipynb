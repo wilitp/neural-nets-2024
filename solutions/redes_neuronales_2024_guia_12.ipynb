{
  "cells": [
    {
      "cell_type": "markdown",
      "metadata": {
        "id": "NRYEofSD0xoF"
      },
      "source": [
        "# PyTorch: Aprendiendo Fashion-MNIST\n",
        "\n",
        "## Refs.\n",
        "\n",
        "* https://pytorch.org/tutorials/beginner/basics/optimization_tutorial.html\n",
        "\n",
        "* https://github.com/zalandoresearch/fashion-mnist\n",
        "\n",
        "* https://github.com/pranay414/Fashion-MNIST-Pytorch/blob/master/fashion_mnist.ipynb\n",
        "\n",
        "## **Ejercicio 1)** Importando librerías\n",
        "\n",
        "**0)** De ser necesario, **instale PyTorch** escribiendo\n",
        "\n",
        "    !pip3 install torch torchvision torchaudio torchviz\n",
        "\n",
        "**1)** Importe las librerías estandard de Python: `os`, `datetime`, `collections` y `pickle`.\n",
        "\n",
        "**2)** Importe las siguientes librerías third party de Python: `matplotlib.pyplot`, `numpy`, `scipy`, `sklearn`, `pandas`, `dill` y `json`.\n",
        "\n",
        "**3)** Importe las librerias necesarias de **PyTorch**: `torch` y `torchvision`.\n",
        "\n",
        "**4)** Importe la librería: `google.colab`."
      ]
    },
    {
      "cell_type": "code",
      "execution_count": 189,
      "metadata": {
        "colab": {
          "base_uri": "https://localhost:8080/"
        },
        "id": "D79v2F3-s7vu",
        "outputId": "bcaebcdc-1d36-41ef-f4a2-e34e697793e3"
      },
      "outputs": [
        {
          "name": "stdout",
          "output_type": "stream",
          "text": [
            "Requirement already satisfied: pandas in /home/guille/famaf/neural-nets-2024/venv/lib/python3.12/site-packages (2.2.3)\n",
            "Requirement already satisfied: scikit-learn in /home/guille/famaf/neural-nets-2024/venv/lib/python3.12/site-packages (1.5.2)\n",
            "Requirement already satisfied: scipy in /home/guille/famaf/neural-nets-2024/venv/lib/python3.12/site-packages (1.14.1)\n",
            "Requirement already satisfied: numpy in /home/guille/famaf/neural-nets-2024/venv/lib/python3.12/site-packages (2.1.3)\n",
            "Requirement already satisfied: matplotlib in /home/guille/famaf/neural-nets-2024/venv/lib/python3.12/site-packages (3.9.2)\n",
            "Requirement already satisfied: torch in /home/guille/famaf/neural-nets-2024/venv/lib/python3.12/site-packages (2.5.1)\n",
            "Requirement already satisfied: torchvision in /home/guille/famaf/neural-nets-2024/venv/lib/python3.12/site-packages (0.20.1)\n",
            "Requirement already satisfied: torchaudio in /home/guille/famaf/neural-nets-2024/venv/lib/python3.12/site-packages (2.5.1)\n",
            "Requirement already satisfied: torchviz in /home/guille/famaf/neural-nets-2024/venv/lib/python3.12/site-packages (0.0.2)\n",
            "Requirement already satisfied: python-dateutil>=2.8.2 in /home/guille/famaf/neural-nets-2024/venv/lib/python3.12/site-packages (from pandas) (2.9.0.post0)\n",
            "Requirement already satisfied: pytz>=2020.1 in /home/guille/famaf/neural-nets-2024/venv/lib/python3.12/site-packages (from pandas) (2024.2)\n",
            "Requirement already satisfied: tzdata>=2022.7 in /home/guille/famaf/neural-nets-2024/venv/lib/python3.12/site-packages (from pandas) (2024.2)\n",
            "Requirement already satisfied: joblib>=1.2.0 in /home/guille/famaf/neural-nets-2024/venv/lib/python3.12/site-packages (from scikit-learn) (1.4.2)\n",
            "Requirement already satisfied: threadpoolctl>=3.1.0 in /home/guille/famaf/neural-nets-2024/venv/lib/python3.12/site-packages (from scikit-learn) (3.5.0)\n",
            "Requirement already satisfied: contourpy>=1.0.1 in /home/guille/famaf/neural-nets-2024/venv/lib/python3.12/site-packages (from matplotlib) (1.3.1)\n",
            "Requirement already satisfied: cycler>=0.10 in /home/guille/famaf/neural-nets-2024/venv/lib/python3.12/site-packages (from matplotlib) (0.12.1)\n",
            "Requirement already satisfied: fonttools>=4.22.0 in /home/guille/famaf/neural-nets-2024/venv/lib/python3.12/site-packages (from matplotlib) (4.55.0)\n",
            "Requirement already satisfied: kiwisolver>=1.3.1 in /home/guille/famaf/neural-nets-2024/venv/lib/python3.12/site-packages (from matplotlib) (1.4.7)\n",
            "Requirement already satisfied: packaging>=20.0 in /home/guille/famaf/neural-nets-2024/venv/lib/python3.12/site-packages (from matplotlib) (24.2)\n",
            "Requirement already satisfied: pillow>=8 in /home/guille/famaf/neural-nets-2024/venv/lib/python3.12/site-packages (from matplotlib) (11.0.0)\n",
            "Requirement already satisfied: pyparsing>=2.3.1 in /home/guille/famaf/neural-nets-2024/venv/lib/python3.12/site-packages (from matplotlib) (3.2.0)\n",
            "Requirement already satisfied: filelock in /home/guille/famaf/neural-nets-2024/venv/lib/python3.12/site-packages (from torch) (3.16.1)\n",
            "Requirement already satisfied: typing-extensions>=4.8.0 in /home/guille/famaf/neural-nets-2024/venv/lib/python3.12/site-packages (from torch) (4.12.2)\n",
            "Requirement already satisfied: networkx in /home/guille/famaf/neural-nets-2024/venv/lib/python3.12/site-packages (from torch) (3.4.2)\n",
            "Requirement already satisfied: jinja2 in /home/guille/famaf/neural-nets-2024/venv/lib/python3.12/site-packages (from torch) (3.1.4)\n",
            "Requirement already satisfied: fsspec in /home/guille/famaf/neural-nets-2024/venv/lib/python3.12/site-packages (from torch) (2024.10.0)\n",
            "Requirement already satisfied: nvidia-cuda-nvrtc-cu12==12.4.127 in /home/guille/famaf/neural-nets-2024/venv/lib/python3.12/site-packages (from torch) (12.4.127)\n",
            "Requirement already satisfied: nvidia-cuda-runtime-cu12==12.4.127 in /home/guille/famaf/neural-nets-2024/venv/lib/python3.12/site-packages (from torch) (12.4.127)\n",
            "Requirement already satisfied: nvidia-cuda-cupti-cu12==12.4.127 in /home/guille/famaf/neural-nets-2024/venv/lib/python3.12/site-packages (from torch) (12.4.127)\n",
            "Requirement already satisfied: nvidia-cudnn-cu12==9.1.0.70 in /home/guille/famaf/neural-nets-2024/venv/lib/python3.12/site-packages (from torch) (9.1.0.70)\n",
            "Requirement already satisfied: nvidia-cublas-cu12==12.4.5.8 in /home/guille/famaf/neural-nets-2024/venv/lib/python3.12/site-packages (from torch) (12.4.5.8)\n",
            "Requirement already satisfied: nvidia-cufft-cu12==11.2.1.3 in /home/guille/famaf/neural-nets-2024/venv/lib/python3.12/site-packages (from torch) (11.2.1.3)\n",
            "Requirement already satisfied: nvidia-curand-cu12==10.3.5.147 in /home/guille/famaf/neural-nets-2024/venv/lib/python3.12/site-packages (from torch) (10.3.5.147)\n",
            "Requirement already satisfied: nvidia-cusolver-cu12==11.6.1.9 in /home/guille/famaf/neural-nets-2024/venv/lib/python3.12/site-packages (from torch) (11.6.1.9)\n",
            "Requirement already satisfied: nvidia-cusparse-cu12==12.3.1.170 in /home/guille/famaf/neural-nets-2024/venv/lib/python3.12/site-packages (from torch) (12.3.1.170)\n",
            "Requirement already satisfied: nvidia-nccl-cu12==2.21.5 in /home/guille/famaf/neural-nets-2024/venv/lib/python3.12/site-packages (from torch) (2.21.5)\n",
            "Requirement already satisfied: nvidia-nvtx-cu12==12.4.127 in /home/guille/famaf/neural-nets-2024/venv/lib/python3.12/site-packages (from torch) (12.4.127)\n",
            "Requirement already satisfied: nvidia-nvjitlink-cu12==12.4.127 in /home/guille/famaf/neural-nets-2024/venv/lib/python3.12/site-packages (from torch) (12.4.127)\n",
            "Requirement already satisfied: triton==3.1.0 in /home/guille/famaf/neural-nets-2024/venv/lib/python3.12/site-packages (from torch) (3.1.0)\n",
            "Requirement already satisfied: setuptools in /home/guille/famaf/neural-nets-2024/venv/lib/python3.12/site-packages (from torch) (75.5.0)\n",
            "Requirement already satisfied: sympy==1.13.1 in /home/guille/famaf/neural-nets-2024/venv/lib/python3.12/site-packages (from torch) (1.13.1)\n",
            "Requirement already satisfied: mpmath<1.4,>=1.1.0 in /home/guille/famaf/neural-nets-2024/venv/lib/python3.12/site-packages (from sympy==1.13.1->torch) (1.3.0)\n",
            "Requirement already satisfied: graphviz in /home/guille/famaf/neural-nets-2024/venv/lib/python3.12/site-packages (from torchviz) (0.20.3)\n",
            "Requirement already satisfied: six>=1.5 in /home/guille/famaf/neural-nets-2024/venv/lib/python3.12/site-packages (from python-dateutil>=2.8.2->pandas) (1.16.0)\n",
            "Requirement already satisfied: MarkupSafe>=2.0 in /home/guille/famaf/neural-nets-2024/venv/lib/python3.12/site-packages (from jinja2->torch) (3.0.2)\n",
            "\n",
            "\u001b[1m[\u001b[0m\u001b[34;49mnotice\u001b[0m\u001b[1;39;49m]\u001b[0m\u001b[39;49m A new release of pip is available: \u001b[0m\u001b[31;49m24.2\u001b[0m\u001b[39;49m -> \u001b[0m\u001b[32;49m24.3.1\u001b[0m\n",
            "\u001b[1m[\u001b[0m\u001b[34;49mnotice\u001b[0m\u001b[1;39;49m]\u001b[0m\u001b[39;49m To update, run: \u001b[0m\u001b[32;49mpip install --upgrade pip\u001b[0m\n"
          ]
        }
      ],
      "source": [
        "# 1.0)\n",
        "!pip3 install pandas scikit-learn scipy numpy matplotlib torch torchvision torchaudio torchviz"
      ]
    },
    {
      "cell_type": "code",
      "execution_count": 190,
      "metadata": {
        "id": "I8N3D_nU1_oT"
      },
      "outputs": [],
      "source": [
        "# 1.1)\n",
        "import os\n",
        "import pickle\n",
        "import datetime\n",
        "from collections import defaultdict"
      ]
    },
    {
      "cell_type": "code",
      "execution_count": 191,
      "metadata": {
        "id": "QsfFvPYhkCGl"
      },
      "outputs": [],
      "source": [
        "# 1.2)\n",
        "import matplotlib.pyplot as plt\n",
        "from matplotlib import cm\n",
        "import numpy as np\n",
        "import scipy as sp\n",
        "import scipy.linalg as linalg\n",
        "import sklearn as skl\n",
        "import pandas as pd\n",
        "#import dill\n",
        "import json"
      ]
    },
    {
      "cell_type": "code",
      "execution_count": 192,
      "metadata": {
        "id": "Uot5sVNnkCNa"
      },
      "outputs": [],
      "source": [
        "# 1.3)\n",
        "import torch\n",
        "import torch.optim as optim\n",
        "from torch import nn\n",
        "from torch.nn import functional as F\n",
        "from torch.utils.data import Dataset, DataLoader, Subset, random_split\n",
        "from torchvision import datasets\n",
        "from torchvision import transforms\n",
        "from torchvision.io import read_image\n",
        "from torchvision.transforms import ToTensor, Lambda, Compose\n",
        "#from torchviz import make_dot"
      ]
    },
    {
      "cell_type": "code",
      "execution_count": 193,
      "metadata": {
        "id": "rVCiYt-1kCUi"
      },
      "outputs": [],
      "source": [
        "# 1.4)\n",
        "# import google.colab\n",
        "# from google.colab import files"
      ]
    },
    {
      "cell_type": "markdown",
      "metadata": {
        "id": "NcaGEHAd10sb"
      },
      "source": [
        "## **Ejercicio 2)**\n",
        "\n",
        "Bajando y Jugando con el dataset **Fashion-MNIST**.\n",
        "\n",
        "**1)** Baje y transforme (i.e. normalize los valores al rango [0,1]) los conjuntos de entrenamiento y testeo de FashionMNIST.\n",
        "\n",
        "**2)** Explore algunos ejemplos de estos conjuntos. Que formato poseen?\n",
        "\n",
        "**3)** Visitando la página web de FashionMNIST, cree un diccionario de Python `Dict()` asociando cada categoría a un nombre adecuado de la misma.\n",
        "\n",
        "**4)** Grafique un mosaico de 3x3 imagenes de FashionMNIST, cada una titulada con su respectiva clasificación"
      ]
    },
    {
      "cell_type": "code",
      "execution_count": 194,
      "metadata": {
        "colab": {
          "base_uri": "https://localhost:8080/"
        },
        "id": "NUoQ9bnwaZ7O",
        "outputId": "12075a20-655e-4309-8cf0-16bedff27786"
      },
      "outputs": [
        {
          "data": {
            "image/png": "[encoded data removed]",
            "text/plain": [
              "<Figure size 640x480 with 9 Axes>"
            ]
          },
          "metadata": {},
          "output_type": "display_data"
        }
      ],
      "source": [
        "# 2.1)\n",
        "\n",
        "\n",
        "class_map = {\n",
        "    0:\t\"T-shirt/top\",\n",
        "    1: \"Trouser\",\n",
        "    2: \"Pullover\",\n",
        "    3: \"Dress\",\n",
        "    4: \"Coat\",\n",
        "    5: \"Sandal\",\n",
        "    6: \"Shirt\",\n",
        "    7: \"Sneaker\",\n",
        "    8: \"Bag\",\n",
        "    9: \"Ankle boot\",\n",
        "}\n",
        "\n",
        "\n",
        "transform = transforms.Compose([\n",
        "    transforms.ToTensor(),\n",
        "    transforms.Normalize((0.5,), 0.5,),\n",
        "])\n",
        "\n",
        "valid_set = datasets.FashionMNIST(\"MNIST_data/\", download = True, train=False\n",
        ", transform=transform\n",
        ")\n",
        "\n",
        "train_set = datasets.FashionMNIST(\"MNIST_data/\", download = True, train=True\n",
        ", transform=transform\n",
        ")\n",
        "\n",
        "# Preparo una figura con 6 Axes\n",
        "ncols = 3\n",
        "nrows = 3\n",
        "fig, axes = plt.subplots(ncols=ncols, nrows=nrows)\n",
        "\n",
        "\n",
        "for i in range(ncols * nrows):\n",
        "\n",
        "    # Ejemplo random\n",
        "    randindex = np.random.randint(0, len(train_set))\n",
        "    image, classification = train_set[randindex]\n",
        "\n",
        "    # Conseguir i-esimo subplot\n",
        "    ax =  axes[i // ncols, i % ncols]\n",
        "\n",
        "    ax.set_axis_off() # quitar ejes\n",
        "    ax.imshow(image.squeeze(), cmap=\"gray\") # mostrar imagen\n",
        "    ax.set_title(class_map[classification]) # poner su clase como titulo\n",
        "\n"
      ]
    },
    {
      "cell_type": "markdown",
      "metadata": {
        "id": "1OWYnfxWz8RS"
      },
      "source": [
        "## Ejercicio 3)\n",
        "\n",
        "Creando un `DataLoader` para alimentar el modelo con batchs (lotes) de entrenamiento.\n",
        "\n",
        "**1)** Cree los `DataLoader`s para cada conjunto. Defínalos con un `batch_size` de 100 y con el flag `shuffle` seteado a `True`.\n",
        "\n",
        "**2)** Use uno de los `DataLoader`s creados anteriormente para explorar algunos elementos del conjunto.\n",
        "\n",
        "Notar que, el iterador devuelve el batch en un par `(image,label)`.\n",
        "\n",
        "El objeto `images` es un tensor de dimensiones `(100,1,28,28)`.\n",
        "El 100 es el tamaño del batch.\n",
        "El 1 porque hay un solo canal (en este caso, un canal de escala de grises, pero podría haber varios, p. ej. uno por cada color de {Red, Green Blue} en caso que fuesen imagenes a color).\n",
        "Luego, 28 y 28 porque cada imagen del dataset es de 28 x 28 píxeles.\n",
        "\n",
        "El objeto `labels` es un tensor de dimensiones `(100,)`.\n",
        "La $i$-ésima entrada `labels[i]` de `labels` es un número en $\\{0,1,...,9\\}$ indicando la categoría a la que pertenece la $i$-ésima imagen en el batch, guardada en `images[i]`."
      ]
    },
    {
      "cell_type": "code",
      "execution_count": 195,
      "metadata": {
        "id": "lK7gqh7lrTi8"
      },
      "outputs": [],
      "source": [
        "# 3.1)\n",
        "\n",
        "train_loader = torch.utils.data.DataLoader(train_set, batch_size = 100, shuffle=True)\n",
        "valid_loader = torch.utils.data.DataLoader(train_set, batch_size = 100, shuffle=False)"
      ]
    },
    {
      "cell_type": "markdown",
      "metadata": {
        "id": "REToccG127zI"
      },
      "source": [
        "## Ejercicio 4)\n",
        "\n",
        "Defina una red neuronal de 4 capas, una de entrada, dos ocultas de $n_1=128$ y $n_2=64$ neuronas, respectivamente, y una de salida de 10 neuronas.\n",
        "\n",
        "En las capas intermedias utilice neuronas tipo ReLU y agregueles un *dropout* de p=0.2.\n",
        "En la capa de salida no utilice funciones de activación ni dropout.\n",
        "\n",
        "Las capas sucesivas tienen que estar totalmente conectadas entre si."
      ]
    },
    {
      "cell_type": "code",
      "execution_count": 196,
      "metadata": {
        "id": "C17Tib9G_k-q"
      },
      "outputs": [
        {
          "name": "stdout",
          "output_type": "stream",
          "text": [
            "Using cuda device\n",
            "out= tensor([[-0.0035,  0.0592,  0.1072, -0.2224,  0.1782, -0.2726, -0.2720, -0.0904,\n",
            "          0.2431, -0.1078]], device='cuda:0', grad_fn=<AddmmBackward0>)\n",
            "probabilities= tensor([[0.1019, 0.1085, 0.1139, 0.0819, 0.1222, 0.0779, 0.0779, 0.0934, 0.1304,\n",
            "         0.0918]], device='cuda:0', grad_fn=<SoftmaxBackward0>)\n",
            "clasificacion= tensor([8], device='cuda:0')\n"
          ]
        }
      ],
      "source": [
        "# 4)\n",
        "\n",
        "class NN(nn.Module):\n",
        "    \n",
        "    p = .2\n",
        "    \n",
        "    def __init__(self):\n",
        "        super().__init__()\n",
        "        self.c0 = nn.Flatten()\n",
        "        \n",
        "        self.c1 = nn.Sequential(\n",
        "            nn.Linear(in_features=28 * 28, out_features=128),\n",
        "            nn.ReLU(),\n",
        "            nn.Dropout(self.p)\n",
        "        )\n",
        "\n",
        "        self.c2 = nn.Sequential(\n",
        "            nn.Linear(in_features=128, out_features=64),\n",
        "            nn.ReLU(),\n",
        "            nn.Dropout(self.p)\n",
        "        )\n",
        "        \n",
        "        self.c3 = nn.Sequential(\n",
        "            nn.Linear(in_features=64, out_features=10)\n",
        "        )\n",
        "        \n",
        "        self.net = nn.Sequential(self.c0, self.c1, self.c2, self.c3)\n",
        "    \n",
        "    def forward(self, x):\n",
        "\n",
        "        logits = self.net(x) \n",
        "\n",
        "        return logits\n",
        "\n",
        "device = (\n",
        "    \"cuda\"\n",
        "    if torch.cuda.is_available()\n",
        "    else \"mps\"\n",
        "    if torch.backends.mps.is_available()\n",
        "    else \"cpu\"\n",
        ")\n",
        "device = torch.device(device)\n",
        "print(f\"Using {device} device\")\n",
        "\n",
        "model = NN().to(device)\n",
        "\n",
        "# Pruebita:\n",
        "\n",
        "image = torch.randn(1, 28, 28).to(device)\n",
        "\n",
        "out = model(image)\n",
        "\n",
        "probabilities = nn.Softmax(dim=1)(out)\n",
        "\n",
        "print(f\"{out= }\")\n",
        "print(f\"{probabilities= }\")\n",
        "print(f\"clasificacion= {probabilities.argmax(1)}\")"
      ]
    },
    {
      "cell_type": "markdown",
      "metadata": {
        "id": "A9uINlg69OTw"
      },
      "source": [
        "## Ejercicio 5)\n",
        "\n",
        "Entrenamos el modelo\n",
        "\n",
        "**1)** Implemente, en una función, un loop de entrenamiento que recorra los batchs (lotes).\n",
        "\n",
        "**2)** Implemente, en una función, un loop de validación que recorra los batchs.\n",
        "\n",
        "**3)** Inicialize dos `DataLoader`s llamados `train_loader` y `valid_loader` a partir del `train_set` (conjunto de entranmiento) y del `valid_set` (conjunto de validación) de Fashion-MNIST, respectivamente, y que usen batchs de 100 ejemplos.\n",
        "\n",
        "**4)** Cree una función de pérdida usando la **Cross Entropy Loss**.\n",
        "\n",
        "**IMPORTANTE:** Notar que la **Cross Entropy Loss** aplica automáticamente una `log_softmax`.\n",
        "\n",
        "**5)** Cree un optimizador que utilice el método de **Stochastic Gradient Descent** con un learning rate igual a $10^{-3}$.\n",
        "\n",
        "**6)** Cree una instancia del modelo.\n",
        "\n",
        "**7)** Especifique en que dispositivo (`device`) va a trabajar: en una **CPU** o en una **GPU**.\n",
        "\n",
        "**8)** Implemente un loop de entrenamiento y validación que trabaje con el `train_loader` y el `valid_loader`, respectivamente, usando un numero arbitrario de épocas.\n",
        "Este loop debe guardar en cuatro listas los valores de los promedios del **Cross Entropy Loss** y las fracciones de clasificaciones correctas o **precisión** (accuracy) sobre el conjunto de **entrenamiento** y el de **validación**, respectivamente.\n",
        "\n",
        "**IMPORTANTE:** No olvide copiar los batchs al dispositivo de trabajo.\n",
        "\n",
        "**9)** Entrene y valide el modelo.\n",
        "\n",
        "**10)** Use las listas del inciso anterior para graficar en función de las épocas la **Cross Entropy Loss** de **entrenamiento** y de **validación**.\n",
        "Realize un gráfico análogo pero con la **precisión**.\n",
        "Discuta y comente, cual es el número óptimo de épocas de entrenamiento?\n",
        "\n",
        "**11)** Repita los experimentos variando hiperparámetros. Por ejemplo:\n",
        "\n",
        "- El learning-rate.\n",
        "- El optimizador (ej. puede usar ADAM).\n",
        "- El valor de dropout.\n",
        "- El número de neuronas en las capas intermedias.\n",
        "- El número de épocas de entrenamiento.\n",
        "- El tamaño de los lotes.\n",
        "\n",
        "Discuta los resultados."
      ]
    },
    {
      "cell_type": "code",
      "execution_count": 209,
      "metadata": {
        "id": "hyuXv-0x29Xw"
      },
      "outputs": [],
      "source": [
        "# 5.1)\n",
        "\n",
        "# ver https://stackoverflow.com/questions/65192475/pytorch-logsoftmax-vs-softmax-for-crossentropyloss\n",
        "# para una discusion sobre logits, softmax, logsoftmax y cross entropy loss\n",
        "\n",
        "def train_loop(dataloader, model, loss_fn, optimizer):\n",
        "    size = len(dataloader.dataset)\n",
        "\n",
        "    # flag de entrenamiento, importante por las dropout layers\n",
        "    model.train()\n",
        "\n",
        "    for batch, (X, y) in enumerate(dataloader):\n",
        "        # Compute prediction and loss\n",
        "\n",
        "        X = X.to(device)\n",
        "        y = y.to(device)\n",
        "\n",
        "        pred = model(X)\n",
        "        loss = loss_fn(pred, y)\n",
        "\n",
        "        # Backpropagation\n",
        "        loss.backward()\n",
        "        optimizer.step()\n",
        "        optimizer.zero_grad()\n",
        "\n",
        "\n",
        "\n",
        "def test_loop(dataloader, model, loss_fn):\n",
        "    # Set the model to evaluation mode - important for batch normalization and dropout layers\n",
        "    # Unnecessary in this situation but added for best practices\n",
        "    model.eval()\n",
        "    size = len(dataloader.dataset)\n",
        "    num_batches = len(dataloader)\n",
        "    test_loss, correct = 0, 0\n",
        "\n",
        "    # Evaluating the model with torch.no_grad() ensures that no gradients are computed during test mode\n",
        "    # also serves to reduce unnecessary gradient computations and memory usage for tensors with requires_grad=True\n",
        "    with torch.no_grad():\n",
        "        for X, y in dataloader:\n",
        "            X = X.to(device)\n",
        "            y = y.to(device)\n",
        "            pred = model(X)\n",
        "            test_loss += loss_fn(pred, y).item()\n",
        "            correct += (pred.argmax(1) == y).type(torch.float).sum().item()\n",
        "\n",
        "    test_loss /= num_batches\n",
        "    correct /= size\n",
        "    print(f\"Test Error: \\n Accuracy: {(100*correct):>0.1f}%, Avg loss: {test_loss:>8f} \\n\")\n",
        "\n"
      ]
    },
    {
      "cell_type": "code",
      "execution_count": 212,
      "metadata": {},
      "outputs": [
        {
          "name": "stdout",
          "output_type": "stream",
          "text": [
            "Test Error: \n",
            " Accuracy: 71.6%, Avg loss: 0.890888 \n",
            "\n",
            "Test Error: \n",
            " Accuracy: 72.5%, Avg loss: 0.835920 \n",
            "\n",
            "Test Error: \n",
            " Accuracy: 73.4%, Avg loss: 0.794052 \n",
            "\n",
            "Test Error: \n",
            " Accuracy: 74.0%, Avg loss: 0.761022 \n",
            "\n",
            "Test Error: \n",
            " Accuracy: 74.4%, Avg loss: 0.734498 \n",
            "\n"
          ]
        }
      ],
      "source": [
        "loss_fn = nn.CrossEntropyLoss()\n",
        "learning_rate = 1e-3\n",
        "optimizer = torch.optim.SGD(model.parameters(), lr=learning_rate)\n",
        "\n",
        "epochs = 5\n",
        "\n",
        "\n",
        "for epoch in range(epochs):\n",
        "    train_loop(train_loader, model, loss_fn, optimizer)\n",
        "    \n",
        "    test_loop(valid_loader, model, loss_fn)\n",
        "\n",
        "\n"
      ]
    }
  ],
  "metadata": {
    "colab": {
      "provenance": []
    },
    "kernelspec": {
      "display_name": "Python 3 (ipykernel)",
      "language": "python",
      "name": "python3"
    },
    "language_info": {
      "codemirror_mode": {
        "name": "ipython",
        "version": 3
      },
      "file_extension": ".py",
      "mimetype": "text/x-python",
      "name": "python",
      "nbconvert_exporter": "python",
      "pygments_lexer": "ipython3",
      "version": "3.12.6"
    }
  },
  "nbformat": 4,
  "nbformat_minor": 0
}
